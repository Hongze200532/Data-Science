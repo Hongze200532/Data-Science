{
 "cells": [
  {
   "cell_type": "markdown",
   "id": "ed4f19c6",
   "metadata": {},
   "source": [
    "# Week 2 - lab 2: Linear regression\n",
    "\n",
    "**This lab:** the aim is to: (i) build and evaluate linear regression models for data, and to (ii) use feature transofrmation to turn a linear regression model into a non-linear regression model.\n",
    "\n",
    "During this lab, it is recommended to check the scikit-learn documentation on `LinearRegression` function."
   ]
  },
  {
   "cell_type": "markdown",
   "id": "c99c2aeb",
   "metadata": {},
   "source": [
    "## Regression on accidents dataset\n",
    "\n",
    "1. Donwload and read the \"accidents.csv\" dataset based on the US highways i.e., load accidents. \n",
    "\n",
    "2. Build two linear regression models: (i) one with and (ii) one without bias (intercept), to predict the number of highway accidents (output)based on the state population (input). \n",
    "\n",
    "**Note:** for training use the column that gives the number of accidents per state (Traffic fatalities), and the column that gives the states populations (Total population). For training you need to solve least squares (see the online/lecture materials). \n",
    "First, use numpy's ```numpy.linalg.lstsq``` command to solve the associated least squares optimisation problems. Verify that the obtained coefficients will be the same as the close-form solution to the least squares using the Moore-Penrose pseudoinverse matrix (The pseudoinverse of a matrix can be computed by numpy commad ```np.linalg.pinv```). Finally train using sklearn's ```LinearRegression``` command and compre the obtained coefficients with the two schemes above (they should all give same result).\n",
    "\n",
    "3. Scatterplot the training data. Display the two lines (one with bias/intercept and another without bias) that your model discovers for fitting the data.\n",
    "\n",
    "4. Measure and print quality of the fits on the train data, using mean squared error (MSE) and R_sqared metrics.\n",
    "\n",
    "\n",
    "Exercise source: https://uk.mathworks.com/help/matlab/data_analysis/linear-regression.html"
   ]
  },
  {
   "cell_type": "code",
   "execution_count": 3,
   "id": "fc09adb7",
   "metadata": {},
   "outputs": [
    {
     "name": "stdout",
     "output_type": "stream",
     "text": [
      "   Census ID  Centroid Longitude  Centroid Latitude  Traffic fatalities  \\\n",
      "0         56         -107.555625          43.032664                 164   \n",
      "1         11          -77.026928          38.892064                  43   \n",
      "2         50          -72.556496          44.043498                  98   \n",
      "3          2         -152.459342          64.609656                 101   \n",
      "4         38          -99.499793          47.469117                 100   \n",
      "\n",
      "   Licensed drivers (thousands)  Registered vehicles (thousands)  \\\n",
      "0                       380.180                          671.529   \n",
      "1                       349.122                          240.403   \n",
      "2                       550.462                          551.516   \n",
      "3                       482.532                          681.115   \n",
      "4                       461.780                          721.835   \n",
      "\n",
      "   Vehicle-miles traveled (millions)  Miles traveled per vehicle  \\\n",
      "0                               9261                13790.915954   \n",
      "1                               3742                15565.529548   \n",
      "2                               7855                14242.560506   \n",
      "3                               4990                 7326.222444   \n",
      "4                               7594                10520.409789   \n",
      "\n",
      "   Fatalities per 100K licensed drivers  \\\n",
      "0                             43.137461   \n",
      "1                             12.316611   \n",
      "2                             17.803227   \n",
      "3                             20.931254   \n",
      "4                             21.655334   \n",
      "\n",
      "   Fatalities per 100K registered vehicles  \\\n",
      "0                                24.421879   \n",
      "1                                17.886632   \n",
      "2                                17.769203   \n",
      "3                                14.828627   \n",
      "4                                13.853581   \n",
      "\n",
      "   Fatalities per 100M vehicle-miles traveled  \\\n",
      "0                                    1.770867   \n",
      "1                                    1.149118   \n",
      "2                                    1.247613   \n",
      "3                                    2.024048   \n",
      "4                                    1.316829   \n",
      "\n",
      "   Fatalities involving high blood alcohol  Percent Alcohol-Related  \\\n",
      "0                                       54                32.926829   \n",
      "1                                       12                27.906977   \n",
      "2                                       20                20.408163   \n",
      "3                                       30                29.702970   \n",
      "4                                       35                35.000000   \n",
      "\n",
      "   Total Population  Urban Population  Rural Population  Pct Urban Population  \n",
      "0            493782            322073            171709             65.225747  \n",
      "1            572059            572059                 0            100.000000  \n",
      "2            608827            232550            376277             38.196401  \n",
      "3            626932            411955            214977             65.709678  \n",
      "4            642200            358394            283806             55.807225  \n",
      "shape of x and y: (51, 1) (51, 1)\n"
     ]
    }
   ],
   "source": [
    "import pandas as pd\n",
    "import numpy as np\n",
    "\n",
    "## insert code for 1\n",
    "filepath = \"./accidents.csv\" #set path to the csv file \n",
    "df = pd.read_csv(filepath)\n",
    "print(df.head())\n",
    "\n",
    "# write code to extract data of fatalities and total population, and turn them into numpy vectors.\n",
    "x = np.asarray(df['Total Population']).reshape(-1,1)\n",
    "y = np.asarray(df['Traffic fatalities']).reshape(-1,1)\n",
    "print(\"shape of x and y:\", x.shape, y.shape)"
   ]
  },
  {
   "cell_type": "code",
   "execution_count": 12,
   "id": "bf291d72",
   "metadata": {},
   "outputs": [
    {
     "name": "stdout",
     "output_type": "stream",
     "text": [
      "xtrain, xtest, ytrain, ytest shapes: (40, 1) (11, 1) (40, 1) (11, 1)\n",
      "lstsq_wob -- coef: [[0.00013736]]\n",
      "lstsq_wb -- coef: [[0.0001263]], bias: [148.28407118]\n",
      "pinv_wob -- coef: [[0.00013736]]\n",
      "pinv_wb -- coef: [[0.0001263]], bias: [148.28407118]\n",
      "sklearn_wob -- coef: [[0.00013736]]\n",
      "sklearn_wb -- coef: [[0.0001263]], bias [148.28407118]\n"
     ]
    }
   ],
   "source": [
    "from sklearn.linear_model import LinearRegression\n",
    "from sklearn.model_selection import train_test_split\n",
    "\n",
    "# split data into train/test split\n",
    "x_train, x_test, y_train, y_test = train_test_split(x, y, test_size=0.2, random_state=42)\n",
    "print(\"xtrain, xtest, ytrain, ytest shapes:\", x_train.shape, x_test.shape, y_train.shape, y_test.shape)\n",
    "\n",
    "\n",
    "# fit the model without bias with numpy's lstsq & print obtained coeff's\n",
    "w = np.linalg.lstsq(x_train, y_train, rcond=None)[0]\n",
    "print(f\"lstsq_wob -- coef: {w}\")\n",
    "\n",
    "# fit the model with bias with numpy's lstsq & print obtained coeff's\n",
    "# first update the feature matrix to have the all-one column\n",
    "n = x_train.shape[0]  # number of data samples (rows)\n",
    "# Append a column of ones to the feature matrix X\n",
    "x_train_new = np.hstack((np.ones((n, 1)), x_train))\n",
    "w = np.linalg.lstsq(x_train_new, y_train, rcond=None)[0]\n",
    "print(f\"lstsq_wb -- coef: {w[1:]}, bias: {w[0]}\")\n",
    "\n",
    "# fit the model without bias using pinv & print obtained coeff's\n",
    "w = np.linalg.pinv(x_train) @ y_train\n",
    "print(f\"pinv_wob -- coef: {w}\")\n",
    "\n",
    "# fit the model with bias with pinv & print obtained coeff's\n",
    "w = np.linalg.pinv(x_train_new) @ y_train\n",
    "print(f\"pinv_wb -- coef: {w[1:]}, bias: {w[0]}\")\n",
    "\n",
    "# fit model without bias using sklearn Linear regression & print obtained coeff's\n",
    "without_bias = LinearRegression(fit_intercept=False) #model without intercept\n",
    "without_bias.fit(x_train, y_train)\n",
    "print(f\"sklearn_wob -- coef: {without_bias.coef_}\")\n",
    "\n",
    "predictions_wob = without_bias.predict(x_test)\n",
    "\n",
    "# fit the model with bias using sklearn Linear regression & print obtained coeff's\n",
    "with_bias = LinearRegression() #model with intercept\n",
    "with_bias.fit(x_train, y_train)\n",
    "print(f\"sklearn_wb -- coef: {with_bias.coef_}, bias {with_bias.intercept_}\")\n"
   ]
  },
  {
   "cell_type": "code",
   "execution_count": 17,
   "id": "a7697392",
   "metadata": {},
   "outputs": [
    {
     "data": {
      "image/png": "[encoded data removed]",
      "text/plain": [
       "<Figure size 640x480 with 1 Axes>"
      ]
     },
     "metadata": {},
     "output_type": "display_data"
    }
   ],
   "source": [
    "## insert code for 3: scatterplot the training data and on the same plot show the two (with/without bias) regression fits\n",
    "import matplotlib.pyplot as plt\n",
    "plt.scatter(x_train,y_train)\n",
    "plt.xlabel(\"Total Population\")\n",
    "plt.ylabel(\"Traffic fatalities\")\n",
    "\n",
    "y_train_pred_wb = with_bias.coef_ * x_train + with_bias.intercept_\n",
    "y_train_pred_wb = with_bias.predict(x_train)\n",
    "\n",
    "plt.plot(x_train, y_train_pred_wb,'b', label = 'Prediction without bias')\n",
    "plt.plot(x_train, y_train_pred_wb,'r', label = 'Prediction with bias')\n",
    "plt.legend()\n",
    "plt.show()\n"
   ]
  },
  {
   "cell_type": "code",
   "execution_count": null,
   "id": "2f1a045d",
   "metadata": {},
   "outputs": [],
   "source": [
    "## insert code for step 4: measuring fit quality on train data using MSE and R2 metircs. \n",
    "from sklearn.metrics import mean_squared_error, r2_score\n"
   ]
  },
  {
   "cell_type": "markdown",
   "id": "c9886ef9",
   "metadata": {},
   "source": [
    "## Extension to nonlinear fitting\n",
    "\n",
    "One trick that can be used to solve a non-linear regression problem using a linear regression model is to transform data features using a basis function e.g., a polynomial basis, to obtain nonlinear features. This is called feature engineering. In this exercise we want to use this trick and build a polynomial fitting model\n",
    "\n",
    "1. Create a training dataset: sample regularly n= 30 data points (x,y) from this model: y = sin(2*pi*x), where 0=<x<=1.\n",
    "\n",
    "2. Contaminate the outputs of your samples with gaussian noise (0-mean, variance=0.01) using numpy’s random.randn command.\n",
    "\n",
    "3. Visualise your dataset using scatter plot. "
   ]
  },
  {
   "cell_type": "code",
   "execution_count": null,
   "id": "31135373",
   "metadata": {},
   "outputs": [],
   "source": [
    "# insert code \n"
   ]
  },
  {
   "cell_type": "markdown",
   "id": "ee31b94e",
   "metadata": {},
   "source": [
    "The data shown in the plot produced has nonlinear relationships between input (x) and output (y). Therefore, to make predictions a non-linear regression/fitting model would be required. We will fit this data with polynomials of order 3.\n",
    "\n",
    "1. To do so, transform the 1D features (x) to a 4D feature matrix (X) as follows X = [x<sup>3</sup>, x<sup>2</sup>, x<sup>1</sup>, x<sup>0</sup>]. By fitting a linear regression to this new feature matrix we would obtain regression coefficients w=[w3,w2,w1,w0] that would describe a polynomia prediction model:y_pred = X*w = w3 x<sup>3</sup> + w2 x<sup>2</sup> + w1 x +w0. \n"
   ]
  },
  {
   "cell_type": "markdown",
   "id": "ed74bf03",
   "metadata": {},
   "source": [
    "2. Now, build this polynomial feature matrix, and use it to train (fit) a linear regression model using sklearn ```LinearRegression``` command.\n",
    "\n",
    "   NB: ```LinearRegression``` command does not apply regularisation during fitting. To add ridge (L1) or lasso (L2) regularisations during fitting, you can use sklearn's ```sklearn.linear_model.Ridge``` or ```sklearn.linear_model.Lasso``` models, for which you need to set the regularisation strength (alpha) hyperparameter. (generally, these hyperparameters can be tuned by cross-validations and sklearn also gives options for automated hyperparameter tuning)."
   ]
  },
  {
   "cell_type": "code",
   "execution_count": null,
   "id": "ab72941a",
   "metadata": {},
   "outputs": [],
   "source": []
  },
  {
   "cell_type": "markdown",
   "id": "d5a6ef60",
   "metadata": {},
   "source": [
    "4. With your trained model make predictions on the training data i.e. y_pred = model.predict(X). Plot the predicted results vs the original data to see the quality of the fit.\n"
   ]
  },
  {
   "cell_type": "code",
   "execution_count": null,
   "id": "629cbd0f",
   "metadata": {},
   "outputs": [],
   "source": []
  },
  {
   "cell_type": "markdown",
   "id": "784de98e",
   "metadata": {},
   "source": [
    "5. Also examine the fit quality on training data using the MSE and R_sequare metrics."
   ]
  },
  {
   "cell_type": "code",
   "execution_count": null,
   "id": "f744ca24",
   "metadata": {},
   "outputs": [],
   "source": []
  },
  {
   "cell_type": "markdown",
   "id": "89154c76",
   "metadata": {},
   "source": [
    "6. Repeat above with a feature matrix having polynomials of order 10."
   ]
  },
  {
   "cell_type": "code",
   "execution_count": null,
   "id": "0ec8a4a2",
   "metadata": {},
   "outputs": [],
   "source": []
  }
 ],
 "metadata": {
  "kernelspec": {
   "display_name": "base",
   "language": "python",
   "name": "python3"
  },
  "language_info": {
   "codemirror_mode": {
    "name": "ipython",
    "version": 3
   },
   "file_extension": ".py",
   "mimetype": "text/x-python",
   "name": "python",
   "nbconvert_exporter": "python",
   "pygments_lexer": "ipython3",
   "version": "3.12.4"
  }
 },
 "nbformat": 4,
 "nbformat_minor": 5
}
