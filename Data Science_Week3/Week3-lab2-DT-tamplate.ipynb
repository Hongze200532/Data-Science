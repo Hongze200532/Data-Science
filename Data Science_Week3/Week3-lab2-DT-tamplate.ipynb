{
 "cells": [
  {
   "cell_type": "markdown",
   "metadata": {},
   "source": [
    "## Week-lab2: Decision trees classifiers\n",
    "**This lab**: the aim is to build and evaluate classification models for the titanic dataset based on decision trees classifiers, and to fine tune their hyperparameters using cross-validation. During this lab it is highly recommended to check the **sklearn** documentation on `class tree.DecisionTreeClassifier` to fit decision trees classifiers in Python, by simply typing in the name of function via [*scikit-learn* website](https://scikit-learn.org/stable/index.html).\n"
   ]
  },
  {
   "cell_type": "code",
   "execution_count": 1,
   "metadata": {},
   "outputs": [],
   "source": [
    "try:\n",
    "    import pandas\n",
    "    import numpy\n",
    "    import sklearn\n",
    "    import matplotlib\n",
    "except:\n",
    "    !pip install pandas==2.2.2 numpy==1.26.4 scikit-learn==1.5.1 matplotlib==3.9.2"
   ]
  },
  {
   "cell_type": "markdown",
   "metadata": {},
   "source": [
    "### Install dependencies"
   ]
  },
  {
   "cell_type": "code",
   "execution_count": 2,
   "metadata": {
    "ExecuteTime": {
     "end_time": "2024-09-08T17:09:11.603238Z",
     "start_time": "2024-09-08T17:09:10.753029Z"
    },
    "tags": []
   },
   "outputs": [],
   "source": [
    "# Import necessary libraries.\n",
    "import pandas as pd\n",
    "import numpy as np\n",
    "from sklearn.model_selection import train_test_split\n",
    "from sklearn import tree \n",
    "from sklearn.metrics import confusion_matrix, accuracy_score\n",
    "\n",
    "import matplotlib.pyplot as plt\n",
    "\n",
    "# Set up the RNG for numpy.random\n",
    "RANDOM_SEED = 42\n",
    "np.random.seed(seed=RANDOM_SEED)"
   ]
  },
  {
   "cell_type": "markdown",
   "metadata": {},
   "source": [
    "### Load titanic dataset\n",
    "Use **Pandas**’s `read_csv` command to load the `titanic.csv` file in a table. From this table extract a binary (0-1) vector y of labels/outcomes indicating a passenger had survived or not. Create a feature matrix X whose columns are *Pclass, Sex, Age, Siblings_SpousesAboard, Parents_ChildrenAboard, and Fare* features. You need to convert the Sex varialble (currently is string) into a 0-1 numerical variable to include it in the feature matrix."
   ]
  },
  {
   "cell_type": "code",
   "execution_count": 8,
   "metadata": {
    "ExecuteTime": {
     "end_time": "2024-09-08T17:38:10.096354Z",
     "start_time": "2024-09-08T17:38:10.084378Z"
    },
    "tags": []
   },
   "outputs": [
    {
     "name": "stderr",
     "output_type": "stream",
     "text": [
      "/var/folders/3l/gcmv93g129dfkprq8_7b9gt80000gn/T/ipykernel_66797/1836430710.py:5: FutureWarning: Downcasting behavior in `replace` is deprecated and will be removed in a future version. To retain the old behavior, explicitly call `result.infer_objects(copy=False)`. To opt-in to the future behavior, set `pd.set_option('future.no_silent_downcasting', True)`\n",
      "  Sex = X['Sex'].replace(['male','female'],[0,1])\n"
     ]
    },
    {
     "data": {
      "text/html": [
       "<div>\n",
       "<style scoped>\n",
       "    .dataframe tbody tr th:only-of-type {\n",
       "        vertical-align: middle;\n",
       "    }\n",
       "\n",
       "    .dataframe tbody tr th {\n",
       "        vertical-align: top;\n",
       "    }\n",
       "\n",
       "    .dataframe thead th {\n",
       "        text-align: right;\n",
       "    }\n",
       "</style>\n",
       "<table border=\"1\" class=\"dataframe\">\n",
       "  <thead>\n",
       "    <tr style=\"text-align: right;\">\n",
       "      <th></th>\n",
       "      <th>Pclass</th>\n",
       "      <th>Sex</th>\n",
       "      <th>Siblings_SpousesAboard</th>\n",
       "      <th>Parents_ChildrenAboard</th>\n",
       "      <th>Fare</th>\n",
       "    </tr>\n",
       "  </thead>\n",
       "  <tbody>\n",
       "    <tr>\n",
       "      <th>0</th>\n",
       "      <td>3</td>\n",
       "      <td>0</td>\n",
       "      <td>1</td>\n",
       "      <td>0</td>\n",
       "      <td>7.2500</td>\n",
       "    </tr>\n",
       "    <tr>\n",
       "      <th>1</th>\n",
       "      <td>1</td>\n",
       "      <td>1</td>\n",
       "      <td>1</td>\n",
       "      <td>0</td>\n",
       "      <td>71.2833</td>\n",
       "    </tr>\n",
       "    <tr>\n",
       "      <th>2</th>\n",
       "      <td>3</td>\n",
       "      <td>1</td>\n",
       "      <td>0</td>\n",
       "      <td>0</td>\n",
       "      <td>7.9250</td>\n",
       "    </tr>\n",
       "    <tr>\n",
       "      <th>3</th>\n",
       "      <td>1</td>\n",
       "      <td>1</td>\n",
       "      <td>1</td>\n",
       "      <td>0</td>\n",
       "      <td>53.1000</td>\n",
       "    </tr>\n",
       "    <tr>\n",
       "      <th>4</th>\n",
       "      <td>3</td>\n",
       "      <td>0</td>\n",
       "      <td>0</td>\n",
       "      <td>0</td>\n",
       "      <td>8.0500</td>\n",
       "    </tr>\n",
       "  </tbody>\n",
       "</table>\n",
       "</div>"
      ],
      "text/plain": [
       "   Pclass  Sex  Siblings_SpousesAboard  Parents_ChildrenAboard     Fare\n",
       "0       3    0                       1                       0   7.2500\n",
       "1       1    1                       1                       0  71.2833\n",
       "2       3    1                       0                       0   7.9250\n",
       "3       1    1                       1                       0  53.1000\n",
       "4       3    0                       0                       0   8.0500"
      ]
     },
     "execution_count": 8,
     "metadata": {},
     "output_type": "execute_result"
    }
   ],
   "source": [
    "df = pd.read_csv('titanic(1).csv')\n",
    "# your code to build x and y\n",
    "y = df.Survived\n",
    "X = df.loc[:,['Pclass', 'Sex', 'Siblings_SpousesAboard', 'Parents_ChildrenAboard', 'Fare']]\n",
    "Sex = X['Sex'].replace(['male','female'],[0,1])\n",
    "X['Sex'] = Sex\n",
    "X.head()"
   ]
  },
  {
   "cell_type": "markdown",
   "metadata": {},
   "source": [
    "### Split this data randomly into Train and Test sets with proportions 80%-20%."
   ]
  },
  {
   "cell_type": "code",
   "execution_count": 9,
   "metadata": {},
   "outputs": [],
   "source": [
    "P = 0.2\n",
    "data_train, data_test, labels_train, labels_test = train_test_split(X, y, test_size=0.2, random_state=42)\n",
    "unique_label_count = pd.Series(y).nunique()\n"
   ]
  },
  {
   "cell_type": "markdown",
   "metadata": {},
   "source": [
    "### Fit and Visualise decision trees for classification\n",
    "Use sklearn command `tree.DecisionTreeClassifier` to fit decision trees to classify the train data with various `max_leaf_nodes` options. The number of leaves of a tree is equal to the number of splits plus one.\n",
    "\n",
    "Visualise each tree model (e.g., named `clf`) using command `tree.plot_tree`."
   ]
  },
  {
   "cell_type": "code",
   "execution_count": 14,
   "metadata": {
    "ExecuteTime": {
     "end_time": "2024-09-09T09:22:40.919538Z",
     "start_time": "2024-09-09T09:22:40.816610Z"
    }
   },
   "outputs": [
    {
     "data": {
      "image/png": "[encoded data removed]",
      "text/plain": [
       "<Figure size 640x480 with 1 Axes>"
      ]
     },
     "metadata": {},
     "output_type": "display_data"
    }
   ],
   "source": [
    "# your code using tree.plot_tree()\n",
    "for i in [6]:\n",
    "    df = tree.DecisionTreeClassifier(max_leaf_nodes = i + 1)\n",
    "    df.fit(data_train, labels_train)\n",
    "    tree.plot_tree(df,rounded = True, class_names = True)\n",
    "plt.show()\n"
   ]
  },
  {
   "cell_type": "code",
   "execution_count": null,
   "metadata": {},
   "outputs": [],
   "source": [
    "# compute the confusion matrix\n"
   ]
  },
  {
   "cell_type": "code",
   "execution_count": 41,
   "metadata": {
    "ExecuteTime": {
     "end_time": "2024-09-08T12:19:02.178223Z",
     "start_time": "2024-09-08T12:19:02.170376Z"
    },
    "tags": []
   },
   "outputs": [],
   "source": [
    "# your code here "
   ]
  },
  {
   "cell_type": "markdown",
   "metadata": {},
   "source": [
    "Use information from confusion matrix to compute and print the classification accuracy, precision and recall, evaluated on the train and test data. You can also import other functions from `sklearn.metrics` (e.g., accuracy_score)."
   ]
  },
  {
   "cell_type": "code",
   "execution_count": 42,
   "metadata": {
    "ExecuteTime": {
     "end_time": "2024-09-08T12:19:05.541675Z",
     "start_time": "2024-09-08T12:19:05.537223Z"
    }
   },
   "outputs": [],
   "source": [
    "# your code here"
   ]
  },
  {
   "cell_type": "markdown",
   "metadata": {},
   "source": [
    "### Cross validation\n",
    "Split the train data further randomly into train & validation proportions 80%-20%, to perform a cross validation step. Plot the Validation Curves displaying the classification accuracies on the train & validation data against the model complexity, here, the tree's hyperparameter `max_leaf_nodes` ranging from 2 to 200."
   ]
  },
  {
   "cell_type": "code",
   "execution_count": 43,
   "metadata": {
    "ExecuteTime": {
     "end_time": "2024-09-08T12:19:07.281147Z",
     "start_time": "2024-09-08T12:19:07.005928Z"
    }
   },
   "outputs": [],
   "source": [
    "P_CV = 0.2\n",
    "MAX_LEAF = 200\n",
    "\n",
    "data_train_CV, data_val_CV, labels_train_CV, labels_val_CV = train_test_split(data_train, labels_train, test_size=P_CV, random_state=RANDOM_SEED)\n",
    "\n",
    "# your code here"
   ]
  },
  {
   "cell_type": "markdown",
   "metadata": {},
   "source": [
    "Can you see the over/underfitting cases in your validtion curves?\n",
    "What's the best `max_leaf_nodes` number for the decision tree? Implement a grid search to find this optimal hyperparamter so that it maximises the validation accuracy."
   ]
  },
  {
   "cell_type": "code",
   "execution_count": 44,
   "metadata": {
    "ExecuteTime": {
     "end_time": "2024-09-08T12:19:09.025023Z",
     "start_time": "2024-09-08T12:19:09.021544Z"
    }
   },
   "outputs": [],
   "source": [
    "# your code here"
   ]
  },
  {
   "cell_type": "markdown",
   "metadata": {},
   "source": [
    "### Repeat Cross validation 50 times to get smoother results\n",
    "You might also want to make better use of all of the data, perhaps the 20% we picked here for validation just happen to be particularly difficult examples? We can get a better estimate of how the entire dataset will perform if we perform multiple rounds of cross validation. Therefore in this part, repeat the random train-validation split and the associated cross validation procedure for 50 times. Average the Validation Curves over these 10 runs. Do you see smoother results?"
   ]
  },
  {
   "cell_type": "code",
   "execution_count": 45,
   "metadata": {
    "ExecuteTime": {
     "end_time": "2024-09-08T12:19:21.490068Z",
     "start_time": "2024-09-08T12:19:10.638561Z"
    }
   },
   "outputs": [],
   "source": [
    "RUNS = 50\n",
    "MAX_LEAF = 200\n",
    "\n",
    "# your code here"
   ]
  },
  {
   "cell_type": "markdown",
   "metadata": {},
   "source": [
    "Run a hyperparamter grid search on these averaged validation accuracies to determine the best number for the tree's `max_leaf_nodes`."
   ]
  },
  {
   "cell_type": "code",
   "execution_count": 46,
   "metadata": {
    "ExecuteTime": {
     "end_time": "2024-09-08T12:19:25.072894Z",
     "start_time": "2024-09-08T12:19:25.069968Z"
    }
   },
   "outputs": [],
   "source": [
    "# your code here"
   ]
  },
  {
   "cell_type": "markdown",
   "metadata": {},
   "source": [
    "Use this optimal parameter to train a decision tree on whole training data, report the classification accuracies for the training and testing datasets. "
   ]
  },
  {
   "cell_type": "code",
   "execution_count": 34,
   "metadata": {
    "ExecuteTime": {
     "end_time": "2024-09-08T12:19:26.292835Z",
     "start_time": "2024-09-08T12:19:26.285844Z"
    }
   },
   "outputs": [],
   "source": [
    "# your code here"
   ]
  },
  {
   "cell_type": "code",
   "execution_count": null,
   "metadata": {},
   "outputs": [],
   "source": []
  },
  {
   "cell_type": "code",
   "execution_count": null,
   "metadata": {},
   "outputs": [],
   "source": []
  }
 ],
 "metadata": {
  "kernelspec": {
   "display_name": "base",
   "language": "python",
   "name": "python3"
  },
  "language_info": {
   "codemirror_mode": {
    "name": "ipython",
    "version": 3
   },
   "file_extension": ".py",
   "mimetype": "text/x-python",
   "name": "python",
   "nbconvert_exporter": "python",
   "pygments_lexer": "ipython3",
   "version": "3.12.4"
  }
 },
 "nbformat": 4,
 "nbformat_minor": 4
}
